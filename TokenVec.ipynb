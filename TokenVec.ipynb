{
  "nbformat": 4,
  "nbformat_minor": 0,
  "metadata": {
    "colab": {
      "provenance": [],
      "authorship_tag": "ABX9TyNn0hNwuIv0fznTzTPtiYhy",
      "include_colab_link": true
    },
    "kernelspec": {
      "name": "python3",
      "display_name": "Python 3"
    },
    "language_info": {
      "name": "python"
    }
  },
  "cells": [
    {
      "cell_type": "markdown",
      "metadata": {
        "id": "view-in-github",
        "colab_type": "text"
      },
      "source": [
        "<a href=\"https://colab.research.google.com/github/MahSrb/API/blob/main/TokenVec.ipynb\" target=\"_parent\"><img src=\"https://colab.research.google.com/assets/colab-badge.svg\" alt=\"Open In Colab\"/></a>"
      ]
    },
    {
      "cell_type": "code",
      "source": [
        "import pathlib\n",
        "import pandas as pd\n",
        "\n",
        "BASE_DIR = pathlib.Path().resolve().parent\n",
        "EXPORT_DIR = BASE_DIR / \"exports\"\n",
        "EXPORT_DIR.mkdir(exist_ok=True, parents=True)\n",
        "TRAINING_DATA_PATH = EXPORT_DIR / \"training-data.pkl\"\n",
        "METADATA_EXPORT_PATH = EXPORT_DIR / \"metadata.pkl\"\n",
        "TOKENIZER_EXPORT_PATH = EXPORT_DIR / \"tokenizer.json\"\n",
        "METADATA_EXPORT_PATH = EXPORT_DIR / \"metadata.json\""
      ],
      "metadata": {
        "id": "arWpUJRh3PgD"
      },
      "execution_count": null,
      "outputs": []
    },
    {
      "cell_type": "code",
      "execution_count": null,
      "metadata": {
        "colab": {
          "base_uri": "https://localhost:8080/"
        },
        "id": "xGZL2Ufd2YEi",
        "outputId": "d702675c-93ff-4f1d-ca08-438ae4fd1d61"
      },
      "outputs": [
        {
          "output_type": "stream",
          "name": "stdout",
          "text": [
            "Mounted at /content/drive\n"
          ]
        }
      ],
      "source": [
        "from google.colab import drive\n",
        "drive.mount('/content/drive')"
      ]
    },
    {
      "cell_type": "code",
      "source": [
        "url='https://drive.google.com/file/d/1TkdipCKlDRPJGzVcavRnMYdjWOK9ev31/view?usp=sharing'\n",
        "url='https://drive.google.com/uc?id=' + url.split('/')[-2]\n",
        "dataset = pd.read_csv(url)\n",
        "print(dataset)"
      ],
      "metadata": {
        "colab": {
          "base_uri": "https://localhost:8080/"
        },
        "id": "YaJFRxwh3LWS",
        "outputId": "be98abda-b08d-44ec-917f-d315fab5127f"
      },
      "execution_count": null,
      "outputs": [
        {
          "output_type": "stream",
          "name": "stdout",
          "text": [
            "                                                Sentence  Label   LP  NSPA  \\\n",
            "0                      \" or pg_sleep  (  __TIME__  )  --      1   33     6   \n",
            "1       AND 1  =  utl_inaddr.get_host_address   (    ...      1  218    35   \n",
            "2       select * from users where id  =  '1' or @ @1 ...      1   90    20   \n",
            "3       select * from users where id  =  1 or 1#\"  ( ...      1   85    18   \n",
            "4       select name from syscolumns where id   =     ...      1  109    18   \n",
            "...                                                  ...    ...  ...   ...   \n",
            "30603              DELETE FROM door WHERE grow = 'small'      0   37     6   \n",
            "30604                               DELETE FROM tomorrow      0   20     2   \n",
            "30605                       SELECT wide ( s )  FROM west      0   28     6   \n",
            "30606       SELECT * FROM  ( SELECT slide FROM breath )       0   44     9   \n",
            "30607                           SELECT TOP 3 * FROM race      0   24     5   \n",
            "\n",
            "           RSPA  NSPE      RSPE  NK  KWS       ROC  \n",
            "0      0.181818     3  0.090909   1    1  0.727273  \n",
            "1      0.160550    13  0.059633   7   13  0.779817  \n",
            "2      0.222222     7  0.077778   6   16  0.700000  \n",
            "3      0.211765     7  0.082353   6   16  0.705882  \n",
            "4      0.165138     4  0.036697   6   14  0.798165  \n",
            "...         ...   ...       ...  ..  ...       ...  \n",
            "30603  0.162162     1  0.027027   3    7  0.810811  \n",
            "30604  0.100000     0  0.000000   2    4  0.900000  \n",
            "30605  0.214286     2  0.071429   2    4  0.714286  \n",
            "30606  0.204545     3  0.068182   4    8  0.727273  \n",
            "30607  0.208333     1  0.041667   2    4  0.750000  \n",
            "\n",
            "[30608 rows x 10 columns]\n"
          ]
        }
      ]
    },
    {
      "cell_type": "code",
      "source": [
        "labels = dataset[\"Label\"].tolist()\n",
        "texts = dataset[\"Sentence\"].tolist() "
      ],
      "metadata": {
        "id": "M6ApJyM93YpM"
      },
      "execution_count": null,
      "outputs": []
    },
    {
      "cell_type": "code",
      "source": [
        "labels[120],texts[120]"
      ],
      "metadata": {
        "colab": {
          "base_uri": "https://localhost:8080/"
        },
        "id": "1C9-Vb8u4SQb",
        "outputId": "cc833ff8-eafe-4844-94ef-ca9f1a9691fa"
      },
      "execution_count": null,
      "outputs": [
        {
          "output_type": "execute_result",
          "data": {
            "text/plain": [
              "(1, '\\x18 or 3  =  3 --')"
            ]
          },
          "metadata": {},
          "execution_count": 5
        }
      ]
    },
    {
      "cell_type": "code",
      "source": [
        "label_legend = { 1 : \"injection\" , 0 : \"notinjection\" }\n",
        "label_legend_invertor =  {f\"{v}\" : k for k , v in label_legend.items ()}\n",
        "label_legend_invertor"
      ],
      "metadata": {
        "colab": {
          "base_uri": "https://localhost:8080/"
        },
        "id": "Htl77J4G4yZP",
        "outputId": "c50efc14-bc4f-4326-b996-d711bb7b31eb"
      },
      "execution_count": null,
      "outputs": [
        {
          "output_type": "execute_result",
          "data": {
            "text/plain": [
              "{'injection': 1, 'notinjection': 0}"
            ]
          },
          "metadata": {},
          "execution_count": 6
        }
      ]
    },
    {
      "cell_type": "code",
      "source": [
        "labels_as_string = [label_legend[x] for x in labels]\n",
        "label_legend_invertor[labels_as_string[30000]]"
      ],
      "metadata": {
        "colab": {
          "base_uri": "https://localhost:8080/"
        },
        "id": "1k8pMEtC6GeH",
        "outputId": "8582ed0b-6ef0-4703-c95b-a36d81b2c864"
      },
      "execution_count": null,
      "outputs": [
        {
          "output_type": "execute_result",
          "data": {
            "text/plain": [
              "0"
            ]
          },
          "metadata": {},
          "execution_count": 7
        }
      ]
    },
    {
      "cell_type": "code",
      "source": [
        "from tensorflow.keras.preprocessing.text import Tokenizer   "
      ],
      "metadata": {
        "id": "NTUFdZJf6JKA"
      },
      "execution_count": null,
      "outputs": []
    },
    {
      "cell_type": "code",
      "source": [
        "MAX_NUM_WORDS =500"
      ],
      "metadata": {
        "id": "RTM-JaGOENQu"
      },
      "execution_count": null,
      "outputs": []
    },
    {
      "cell_type": "code",
      "source": [
        "tokenizer = Tokenizer(num_words=MAX_NUM_WORDS)\n",
        "tokenizer.fit_on_texts(texts)\n",
        "sequences = tokenizer.texts_to_sequences(texts)\n",
        "#sequences"
      ],
      "metadata": {
        "id": "dh2hBwnnEatk"
      },
      "execution_count": null,
      "outputs": []
    },
    {
      "cell_type": "code",
      "source": [
        "word_index = tokenizer.word_index\n",
        "#word_index"
      ],
      "metadata": {
        "id": "k9xTwL8rNX8K"
      },
      "execution_count": null,
      "outputs": []
    },
    {
      "cell_type": "code",
      "source": [
        "from tensorflow.keras.preprocessing.sequence import pad_sequences"
      ],
      "metadata": {
        "id": "8k1UQLsQN3_8"
      },
      "execution_count": null,
      "outputs": []
    },
    {
      "cell_type": "code",
      "source": [
        "MAX_SEQ_LENGTH = 300"
      ],
      "metadata": {
        "id": "wXb5Buumaoi-"
      },
      "execution_count": null,
      "outputs": []
    },
    {
      "cell_type": "code",
      "source": [
        "x = pad_sequences(sequences, maxlen=MAX_SEQ_LENGTH)\n",
        "x"
      ],
      "metadata": {
        "colab": {
          "base_uri": "https://localhost:8080/"
        },
        "id": "J68hm7T1auaH",
        "outputId": "22da0667-43d6-4e4c-f4b7-7e05ddfd1143"
      },
      "execution_count": null,
      "outputs": [
        {
          "output_type": "execute_result",
          "data": {
            "text/plain": [
              "array([[  0,   0,   0, ..., 118,  33, 363],\n",
              "       [  0,   0,   0, ...,   5, 364, 365],\n",
              "       [  0,   0,   0, ...,   3, 107,  15],\n",
              "       ...,\n",
              "       [  0,   0,   0, ...,   1,  29,   2],\n",
              "       [  0,   0,   0, ...,   2,   1,   2],\n",
              "       [  0,   0,   0, ...,  38,  20,   2]], dtype=int32)"
            ]
          },
          "metadata": {},
          "execution_count": 14
        }
      ]
    },
    {
      "cell_type": "code",
      "source": [
        "import numpy as np\n",
        "from tensorflow.keras.utils import to_categorical"
      ],
      "metadata": {
        "id": "p0myzuRqdoLg"
      },
      "execution_count": null,
      "outputs": []
    },
    {
      "cell_type": "code",
      "source": [
        "labels_as_str_array = np.asarray (labels_as_string)\n",
        "labels_as_str_array"
      ],
      "metadata": {
        "colab": {
          "base_uri": "https://localhost:8080/"
        },
        "id": "yHf_6C-qhGUF",
        "outputId": "394c722b-e0c3-46db-a66c-22137c29b29b"
      },
      "execution_count": null,
      "outputs": [
        {
          "output_type": "execute_result",
          "data": {
            "text/plain": [
              "array(['injection', 'injection', 'injection', ..., 'notinjection',\n",
              "       'notinjection', 'notinjection'], dtype='<U12')"
            ]
          },
          "metadata": {},
          "execution_count": 16
        }
      ]
    },
    {
      "cell_type": "code",
      "source": [
        "y = to_categorical(dataset.Label)\n",
        "y"
      ],
      "metadata": {
        "colab": {
          "base_uri": "https://localhost:8080/"
        },
        "id": "ymRx_4Uphb_8",
        "outputId": "98e15ed7-2ece-4ecf-aca2-5e97dfcb591b"
      },
      "execution_count": null,
      "outputs": [
        {
          "output_type": "execute_result",
          "data": {
            "text/plain": [
              "array([[0., 1.],\n",
              "       [0., 1.],\n",
              "       [0., 1.],\n",
              "       ...,\n",
              "       [1., 0.],\n",
              "       [1., 0.],\n",
              "       [1., 0.]], dtype=float32)"
            ]
          },
          "metadata": {},
          "execution_count": 17
        }
      ]
    },
    {
      "cell_type": "code",
      "source": [
        "from sklearn.model_selection import train_test_split"
      ],
      "metadata": {
        "id": "qW_k5qOnAb62"
      },
      "execution_count": null,
      "outputs": []
    },
    {
      "cell_type": "code",
      "source": [
        "X_train, X_test, y_train, y_test = train_test_split(x,y, test_size= 0.33 , random_state = 42)"
      ],
      "metadata": {
        "id": "XodMWo4bxLfi"
      },
      "execution_count": null,
      "outputs": []
    },
    {
      "cell_type": "code",
      "source": [
        "training_data = {\n",
        "    \"X_train\" : X_train,\n",
        "    \"X_test\" : X_test,\n",
        "    \"y_train\" : y_train,\n",
        "    \"y_test\" : y_test,\n",
        "    \"max_word\" : MAX_NUM_WORDS,\n",
        "    \"max_seq_length\" : MAX_SEQ_LENGTH,\n",
        "    \"label_legend\" : label_legend,\n",
        "    \"label_legend_inverted\" : label_legend_invertor,\n",
        "}\n",
        "tokenizer_json = tokenizer.to_json()\n",
        "#TOKENIZER_EXPORT_PATH.write_text(tokenizer_json)"
      ],
      "metadata": {
        "id": "FSAZ2WlxxmSr"
      },
      "execution_count": null,
      "outputs": []
    },
    {
      "cell_type": "code",
      "source": [
        "with open (METADATA_EXPORT_PATH, 'wb') as f: \n",
        "  pickle.dump(training_data, f)"
      ],
      "metadata": {
        "id": "7xm8FxZf3jMq"
      },
      "execution_count": null,
      "outputs": []
    },
    {
      "cell_type": "code",
      "source": [
        "with open(TRAINING_DATA_PATH , 'wb') as f:\n",
        "    pickle.dump(training_data, f)"
      ],
      "metadata": {
        "id": "Zul4A3yi9tn6"
      },
      "execution_count": null,
      "outputs": []
    },
    {
      "cell_type": "code",
      "source": [
        "data = {}\n",
        "with open (TRAINING_DATA_PATH, 'rb') as f:\n",
        "  data = pickle.load(f)"
      ],
      "metadata": {
        "id": "04deoA6I5PQE"
      },
      "execution_count": null,
      "outputs": []
    },
    {
      "cell_type": "code",
      "source": [
        "data"
      ],
      "metadata": {
        "colab": {
          "base_uri": "https://localhost:8080/"
        },
        "id": "k-MTjWEE-JW_",
        "outputId": "a51afc66-f70d-4a50-eb92-7ad9d7c45ea3"
      },
      "execution_count": null,
      "outputs": [
        {
          "output_type": "execute_result",
          "data": {
            "text/plain": [
              "{'X_test': array([[  0,   0,   0, ..., 282, 319,  19],\n",
              "        [  0,   0,   0, ...,   0,   0,   0],\n",
              "        [  0,   0,   0, ...,   0,   0,   0],\n",
              "        ...,\n",
              "        [  0,   0,   0, ..., 100,   5, 127],\n",
              "        [  0,   0,   0, ..., 233, 233,   5],\n",
              "        [  0,   0,   0, ...,   1,   2,   4]], dtype=int32),\n",
              " 'X_train': array([[  0,   0,   0, ...,   2, 117,  36],\n",
              "        [  0,   0,   0, ..., 125, 120, 104],\n",
              "        [  0,   0,   0, ...,   7, 101,   2],\n",
              "        ...,\n",
              "        [  0,   0,   0, ...,   6,  74,  28],\n",
              "        [  0,   0,   0, ...,   0,   0,   0],\n",
              "        [  0,   0,   0, ...,   1,  78, 453]], dtype=int32),\n",
              " 'label_legend': {0: 'notinjection', 1: 'injection'},\n",
              " 'label_legend_inverted': {'injection': 1, 'notinjection': 0},\n",
              " 'max_seq_length': 300,\n",
              " 'max_word': 500,\n",
              " 'y_test': array([[0., 1.],\n",
              "        [1., 0.],\n",
              "        [1., 0.],\n",
              "        ...,\n",
              "        [1., 0.],\n",
              "        [0., 1.],\n",
              "        [1., 0.]], dtype=float32),\n",
              " 'y_train': array([[1., 0.],\n",
              "        [1., 0.],\n",
              "        [1., 0.],\n",
              "        ...,\n",
              "        [0., 1.],\n",
              "        [1., 0.],\n",
              "        [1., 0.]], dtype=float32)}"
            ]
          },
          "metadata": {},
          "execution_count": 26
        }
      ]
    },
    {
      "cell_type": "code",
      "source": [
        "import json\n",
        "metadata = {\n",
        "    \"label_legend_inverted\" : label_legend_invertor,\n",
        "    \"legend\" : label_legend,\n",
        "    \"max_sequence\" : MAX_SEQ_LENGTH,\n",
        "    \"max_words\" : MAX_NUM_WORDS,\n",
        "}\n",
        "METADATA_EXPORT_PATH.write_text(json.dumps(metadata, indent=4))"
      ],
      "metadata": {
        "colab": {
          "base_uri": "https://localhost:8080/"
        },
        "id": "kfcMiiKUEARf",
        "outputId": "c5d4007a-5f2c-4b56-e98b-14b5556a2b8c"
      },
      "execution_count": null,
      "outputs": [
        {
          "output_type": "execute_result",
          "data": {
            "text/plain": [
              "214"
            ]
          },
          "metadata": {},
          "execution_count": 21
        }
      ]
    },
    {
      "cell_type": "code",
      "source": [
        "from google.colab import files\n",
        "files.download('/exports/training-data.pkl')"
      ],
      "metadata": {
        "id": "MeuaZu9ixlWk"
      },
      "execution_count": null,
      "outputs": []
    },
    {
      "cell_type": "code",
      "source": [
        "import pickle\n",
        "import numpy as np\n",
        "import pandas as pd\n",
        "import tensorflow as tf\n",
        "\n",
        "model = {}\n",
        "with open ('/content/model.pkl', 'rb') as f:\n",
        "  model = pickle.load(f)\n",
        "  model.summary()\n",
        "features = {}\n",
        "with open ('/content/features.pkl', 'rb') as f:\n",
        "  features = pickle.load(f)\n",
        "  print(features)"
      ],
      "metadata": {
        "colab": {
          "base_uri": "https://localhost:8080/"
        },
        "id": "TWDWqwsMc2u_",
        "outputId": "393cadea-fcc0-4aad-cd84-64b71872a96f"
      },
      "execution_count": null,
      "outputs": [
        {
          "output_type": "stream",
          "name": "stdout",
          "text": [
            "Model: \"sequential_9\"\n",
            "_________________________________________________________________\n",
            " Layer (type)                Output Shape              Param #   \n",
            "=================================================================\n",
            " dense_45 (Dense)            (None, 8)                 72        \n",
            "                                                                 \n",
            " dense_46 (Dense)            (None, 100)               900       \n",
            "                                                                 \n",
            " dense_47 (Dense)            (None, 100)               10100     \n",
            "                                                                 \n",
            " dense_48 (Dense)            (None, 100)               10100     \n",
            "                                                                 \n",
            " dense_49 (Dense)            (None, 1)                 101       \n",
            "                                                                 \n",
            "=================================================================\n",
            "Total params: 21,273\n",
            "Trainable params: 21,273\n",
            "Non-trainable params: 0\n",
            "_________________________________________________________________\n",
            "['LP', 'NSPA', 'RSPA', 'NSPE', 'RSPE', 'NK', 'KWS', 'ROC']\n"
          ]
        }
      ]
    },
    {
      "cell_type": "code",
      "source": [
        "def predict(LP, NSPA, RSPA, NSPE, RSPE, NK, KWS, ROC):\n",
        "  list =[LP, NSPA, RSPA, NSPE, RSPE, NK, KWS, ROC]\n",
        "  dataframe = pd.DataFrame(columns = features)\n",
        "  dataframe.loc[len(dataframe)] = list\n",
        "  print (dataframe)\n",
        "  X_output = model.predict(dataframe)\n",
        "  top_y_index = np.round(X_output)\n",
        "  for keys in label_legend_invertor.keys():\n",
        "    if label_legend_invertor[keys]== top_y_index:\n",
        "     print(keys)"
      ],
      "metadata": {
        "id": "BzEcVwe-tUuV"
      },
      "execution_count": null,
      "outputs": []
    },
    {
      "cell_type": "code",
      "source": [
        "predict(33,6,0.181818,3,0.090909,1,1,0.727273)"
      ],
      "metadata": {
        "colab": {
          "base_uri": "https://localhost:8080/"
        },
        "id": "QvbVOcXjf282",
        "outputId": "cd4993f6-fb38-4f48-fdca-94437e1b034d"
      },
      "execution_count": null,
      "outputs": [
        {
          "output_type": "stream",
          "name": "stdout",
          "text": [
            "     LP  NSPA      RSPA  NSPE      RSPE   NK  KWS       ROC\n",
            "0  33.0   6.0  0.181818   3.0  0.090909  1.0  1.0  0.727273\n",
            "injection\n"
          ]
        }
      ]
    }
  ]
}